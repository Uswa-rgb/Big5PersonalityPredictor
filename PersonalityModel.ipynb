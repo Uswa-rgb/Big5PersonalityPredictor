{
  "nbformat": 4,
  "nbformat_minor": 0,
  "metadata": {
    "colab": {
      "name": "PersonalityModel.ipynb",
      "provenance": [],
      "collapsed_sections": [],
      "toc_visible": true,
      "machine_shape": "hm"
    },
    "kernelspec": {
      "name": "python3",
      "display_name": "Python 3"
    }
  },
  "cells": [
    {
      "cell_type": "code",
      "metadata": {
        "id": "ma1jndDj2veE",
        "colab_type": "code",
        "colab": {}
      },
      "source": [
        "import os\n",
        "import time\n",
        "import numpy as np\n",
        "import pandas as pd\n",
        "import tensorflow as tf\n",
        "import matplotlib.pyplot as plt\n",
        "import graphviz as gviz\n",
        "import math\n",
        "from sklearn import tree\n",
        "from sklearn.metrics import accuracy_score\n",
        "from tensorflow.keras.layers import Dense\n",
        "from tensorflow.keras.models import Sequential"
      ],
      "execution_count": 0,
      "outputs": []
    },
    {
      "cell_type": "markdown",
      "metadata": {
        "id": "6jApCPwL3eh-",
        "colab_type": "text"
      },
      "source": [
        "global Variables\n"
      ]
    },
    {
      "cell_type": "code",
      "metadata": {
        "id": "QIZzzmxD3Foi",
        "colab_type": "code",
        "colab": {}
      },
      "source": [
        "negatively_keyed = ['EXT2', 'EXT4', 'EXT6', 'EXT8', 'EXT10',\n",
        "                    'EST2', 'EST4', 'AGR1', 'AGR3', 'AGR5',\n",
        "                    'AGR7', 'CSN2', 'CSN4', 'CSN6', 'CSN8', \n",
        "                    'OPN2', 'OPN4', 'OPN6']\n",
        "\n",
        "NAME = \"big5-model-{}\".format(int(time.time()))"
      ],
      "execution_count": 0,
      "outputs": []
    },
    {
      "cell_type": "markdown",
      "metadata": {
        "id": "V3ZkWMTr3pLs",
        "colab_type": "text"
      },
      "source": [
        "Functions"
      ]
    },
    {
      "cell_type": "code",
      "metadata": {
        "id": "EsaskQ6H3M1h",
        "colab_type": "code",
        "colab": {}
      },
      "source": [
        "def loadDataset():\n",
        "    df = pd.read_csv(\"/content/drive/My Drive/AI Project/data-final.csv\", sep='\\t')\n",
        "    df = df.dropna()\n",
        "    df\n",
        "    df1 = df.iloc[:,0:50]\n",
        "    df1.loc[:, negatively_keyed] = 6 - df.loc[:, negatively_keyed]\n",
        "    df1 = df1.div(5)  # normalizing dataext = df1.iloc[:,0:10]\n",
        "    ext = df1.iloc[:,0:10]\n",
        "    extlabel = ext.mean(axis = 1)\n",
        "    est = df1.iloc[:,10:20]\n",
        "    estlabel = est.mean(axis = 1)\n",
        "    agr = df1.iloc[:,20:30]\n",
        "    agrlabel = agr.mean(axis = 1)\n",
        "    csn = df1.iloc[:,30:40]\n",
        "    csnlabel = csn.mean(axis = 1)\n",
        "    opn = df1.iloc[:,40:50]\n",
        "    opnlabel = opn.mean(axis = 1)    \n",
        "\n",
        "    #print(extlabel,estlabel,agrlabel,csnlabel,opnlabel)  \n",
        "    labels = pd.DataFrame({\"AEXT\":extlabel,\"AEST\":estlabel,\"AAGR\":agrlabel,\"ACSN\":csnlabel,\"AOPN\":opnlabel})\n",
        "    \n",
        "    # shuffle\n",
        "    idx = np.random.permutation(df1.index)\n",
        "    df1 = df1.reindex(idx)\n",
        "    labels=labels.reindex(idx)\n",
        "    trainSetX = df1.iloc[0:int(0.95*df1.shape[0]),:]\n",
        "    testSetX = df1.iloc[int(0.95*df1.shape[0]):,:]\n",
        "    trainSetY = labels.iloc[0:int(0.95*labels.shape[0]),:]\n",
        "    testSetY = labels.iloc[int(0.95*labels.shape[0]):,:]\n",
        "    return trainSetX.to_numpy(), trainSetY.to_numpy(), testSetX.to_numpy(), testSetY.to_numpy()"
      ],
      "execution_count": 0,
      "outputs": []
    },
    {
      "cell_type": "markdown",
      "metadata": {
        "id": "4dVLXxUi3w-g",
        "colab_type": "text"
      },
      "source": [
        "NN model with two layers"
      ]
    },
    {
      "cell_type": "code",
      "metadata": {
        "id": "VgVepkNu3v3A",
        "colab_type": "code",
        "colab": {}
      },
      "source": [
        "def twoLayerNN():\n",
        "    Epochs = 10\n",
        "    batchSize = 32\n",
        "    X_train, Y_train, X_Test, Y_test = loadDataset()\n",
        "   \n",
        "    model = Sequential(name = NAME)\n",
        "    model.add(Dense(64, activation=\"relu\", input_shape=(X_train.shape[1],)))\n",
        "    model.add(Dense(64, activation=\"relu\"))\n",
        "    model.add(Dense(5,  activation=\"sigmoid\"))\n",
        "    model.summary()\n",
        "\n",
        "\n",
        "    model.compile(optimizer= tf.keras.optimizers.Adam(lr=0.001), loss='binary_crossentropy', metrics=['categorical_accuracy'])\n",
        "    history = model.fit(X_train, Y_train, validation_split=0.2, epochs=Epochs, batch_size= batchSize, verbose=1)\n",
        "    model.evaluate(X_Test,Y_test,batch_size=1000, verbose=1)\n",
        "    model.save(\"two_bigfiveperonality_{}.model\".format(time.time()))\n",
        "\n",
        "    # Plot training & validation accuracy values\n",
        "    plt.plot(history.history['categorical_accuracy'])\n",
        "    plt.plot(history.history['val_categorical_accuracy'])\n",
        "    plt.title('2 layer nn accuracy')\n",
        "    plt.ylabel('Accuracy')\n",
        "    plt.xlabel('Epoch')\n",
        "    plt.legend(['Train', 'Test'], loc='upper left')\n",
        "    plt.savefig(\"two_layer_accuracy_plot_{}.png\".format(time.time()))\n",
        "\n",
        "    # Plot training & validation loss values\n",
        "    plt.clf()\n",
        "    plt.plot(history.history['loss'])\n",
        "    plt.plot(history.history['val_loss'])\n",
        "    plt.title('2 layer nn loss')\n",
        "    plt.ylabel('Loss')\n",
        "    plt.xlabel('Epoch')\n",
        "    plt.legend(['Train', 'Test'], loc='upper left')\n",
        "    plt.savefig(\"two_loss_plot_{}.png\".format(time.time()))"
      ],
      "execution_count": 0,
      "outputs": []
    },
    {
      "cell_type": "markdown",
      "metadata": {
        "id": "Mx_6X1BD38PL",
        "colab_type": "text"
      },
      "source": [
        "NN model with one layer"
      ]
    },
    {
      "cell_type": "code",
      "metadata": {
        "id": "KCNIRlm-35kr",
        "colab_type": "code",
        "colab": {}
      },
      "source": [
        "def oneLayerNN():\n",
        "    Epochs = 100\n",
        "    batchSize = 256\n",
        "    X_train, Y_train, X_Test, Y_test = loadDataset()\n",
        "   \n",
        "    model = Sequential(name = NAME)\n",
        "    model.add(Dense(64, activation=\"relu\", input_shape=(X_train.shape[1],)))\n",
        "    model.add(Dense(5,  activation=\"sigmoid\"))\n",
        "    model.summary()\n",
        "    tf.keras.utils.plot_model(model, to_file='oneLayerNN.png', show_shapes=True)\n",
        "\n",
        "\n",
        "    model.compile(optimizer= tf.keras.optimizers.SGD(lr=0.001), loss='binary_crossentropy', metrics=['categorical_accuracy'])\n",
        "    history = model.fit(X_train, Y_train, validation_split=0.2, epochs=Epochs, batch_size= batchSize, verbose=1)\n",
        "    model.evaluate(X_Test,Y_test,batch_size=1000, verbose=1)\n",
        "    model.save(\"oneLayer_bigfiveperonality_{}.model\".format(time.time()))\n",
        "\n",
        "    # Plot training & validation accuracy values\n",
        "    plt.plot(history.history['categorical_accuracy'])\n",
        "    plt.plot(history.history['val_categorical_accuracy'])\n",
        "    plt.title('Model accuracy')\n",
        "    plt.ylabel('Accuracy')\n",
        "    plt.xlabel('Epoch')\n",
        "    plt.legend(['Train', 'Test'], loc='upper left')\n",
        "    plt.savefig(\"oneLayer_accuracy_plot_{}.png\".format(time.time()))\n",
        "\n",
        "    # Plot training & validation loss values\n",
        "    plt.clf()\n",
        "    plt.plot(history.history['loss'])\n",
        "    plt.plot(history.history['val_loss'])\n",
        "    plt.title('Model loss')\n",
        "    plt.ylabel('Loss')\n",
        "    plt.xlabel('Epoch')\n",
        "    plt.legend(['Train', 'Test'], loc='upper left')\n",
        "    plt.savefig(\"oneLayer_loss_plot_{}.png\".format(time.time()))"
      ],
      "execution_count": 0,
      "outputs": []
    },
    {
      "cell_type": "markdown",
      "metadata": {
        "id": "4izri7SS4IXj",
        "colab_type": "text"
      },
      "source": [
        "Model using one layer regression"
      ]
    },
    {
      "cell_type": "code",
      "metadata": {
        "id": "zIrRRGbC4EVV",
        "colab_type": "code",
        "colab": {}
      },
      "source": [
        "def regressionNN():\n",
        "    Epochs = 10\n",
        "    batchSize = 64\n",
        "    X_train, Y_train, X_test, Y_test = loadDataset()\n",
        "\n",
        "    regression = Sequential(name=\"Big5-regression\")\n",
        "    regression.add(Dense(64, activation ='relu', input_shape=(X_train.shape[1],)))\n",
        "    regression.add(Dense(5))\n",
        "    regression.summary()\n",
        "    tf.keras.utils.plot_model(regression, to_file=\"regression.png\", show_shapes=True)\n",
        "\n",
        "    regression.compile(optimizer= tf.keras.optimizers.Adam(lr=0.001), loss='mse', metrics=['accuracy'])\n",
        "    history = regression.fit(X_train, Y_train, validation_split=0.2, epochs=Epochs, batch_size= batchSize, verbose=1)\n",
        "    regression.evaluate(X_test, Y_test, batch_size=128, verbose=1)\n",
        "    regression.save(\"regression_{}\".format(time.time()))\n",
        "\n",
        "    # Plot training & validation accuracy values\n",
        "    plt.plot(history.history['accuracy'])\n",
        "    plt.plot(history.history['val_accuracy'])\n",
        "    plt.title('regression accuracy')\n",
        "    plt.ylabel('Accuracy')\n",
        "    plt.xlabel('Epoch')\n",
        "    plt.legend(['Train', 'Test'], loc='upper left')\n",
        "    plt.savefig(\"regression_accuracy_plot_{}.png\".format(time.time()))\n",
        "\n",
        "    # Plot training & validation loss values\n",
        "    plot.clf()\n",
        "    plt.plot(history.history['loss'])\n",
        "    plt.plot(history.history['val_loss'])\n",
        "    plt.title('regression loss')\n",
        "    plt.ylabel('Loss')\n",
        "    plt.xlabel('Epoch')\n",
        "    plt.legend(['Train', 'Test'], loc='upper left')\n",
        "    plt.savefig(\"regression_loss_plot_{}.png\".format(time.time()))"
      ],
      "execution_count": 0,
      "outputs": []
    },
    {
      "cell_type": "markdown",
      "metadata": {
        "id": "UZ4SNeJfqC5x",
        "colab_type": "text"
      },
      "source": [
        "Decision Tree Scorer"
      ]
    },
    {
      "cell_type": "code",
      "metadata": {
        "id": "rNA_dLpxqJXt",
        "colab_type": "code",
        "colab": {}
      },
      "source": [
        "def ScoreTree(ActualLabels, PredictedLabels):\n",
        "\n",
        "  #            Multi Tree Code\n",
        "\n",
        "  Score = 0\n",
        "  for x in range(0,ActualLabels.shape[0]-1):\n",
        "    if(math.isclose(ActualLabels[x],PredictedLabels[x])):\n",
        "      Score += 1\n",
        "\n",
        "  return Score\n",
        "  \n",
        "  #            Single Tree Code\n",
        "\n",
        "  # ScorePerTrait = np.zeros(5)\n",
        "  # TotalScore: double = 0\n",
        "\n",
        "  # for x in range(0,ActualLabels.shape[0]):\n",
        "  #   for y in range(0,ActualLabels.shape[1]):\n",
        "  #       if(math.isclose(ActualLabels[x][y],PredictedLabels[x][y])):\n",
        "  #         ScorePerTrait[y] += 1\n",
        "  #         TotalScore += 1\n",
        "\n",
        "  # AccuracyPercentage = ((TotalScore/(ActualLabels.shape[0]*ActualLabels.shape[1]))*100)\n",
        "  # for x in range(0,ScorePerTrait.shape[0]):\n",
        "  #   ScorePerTrait[x] = ((ScorePerTrait[x]/ActualLabels.shape[0]) * 100)\n",
        "\n",
        "  # return AccuracyPercentage, ScorePerTrait"
      ],
      "execution_count": 0,
      "outputs": []
    },
    {
      "cell_type": "markdown",
      "metadata": {
        "id": "4fb_WTDxFl2m",
        "colab_type": "text"
      },
      "source": [
        "Decision Tree"
      ]
    },
    {
      "cell_type": "code",
      "metadata": {
        "id": "K0jxzACl4Yjk",
        "colab_type": "code",
        "colab": {}
      },
      "source": [
        "def DecisionTree(Depth):\n",
        "  TrainingData, TrainingLabels, TestData, TestLabels = loadDataset() \n",
        "  \n",
        "  TrainingDataExt, TrainingDataEst, TrainingDataAgr, TrainingDataCsn, TrainingDataOpn = np.hsplit(TrainingData,5)\n",
        "  TrainingLabelsExt, TrainingLabelsEst, TrainingLabelsAgr, TrainingLabelsCsn, TrainingLabelsOpn = np.hsplit(TrainingLabels,5)\n",
        "  TestDataExt, TestDataEst, TestDataAgr, TestDataCsn, TestDataOpn = np.hsplit(TestData,5)\n",
        "  TestLabelsExt, TestLabelsEst, TestLabelsAgr, TestLabelsCsn, TestLabelsOpn = np.hsplit(TestLabels,5)\n",
        "  \n",
        "  \n",
        "  \n",
        "  #Extraversion\n",
        "  RegressorExt = tree.DecisionTreeRegressor(max_depth = Depth)\n",
        "  RegressorExt = RegressorExt.fit(TrainingDataExt, TrainingLabelsExt)\n",
        "  #print(\"Extraversion Tree Depth = \" + str(RegressorExt.get_depth()))\n",
        "\n",
        "  PredictionExt = RegressorExt.predict(TestDataExt)\n",
        "  ExtScore = ScoreTree(TestLabelsExt, PredictionExt)\n",
        "  #print(ExtScore)\n",
        "  ExtPercent = ((ExtScore/TestLabelsExt.shape[0]) *100)\n",
        "  #print(ExtPercent)\n",
        "\n",
        "  #Neuroticism\n",
        "  RegressorEst = tree.DecisionTreeRegressor(max_depth = Depth)\n",
        "  RegressorEst = RegressorEst.fit(TrainingDataEst, TrainingLabelsEst)\n",
        "  #print(\"Neuroticism Tree Depth = \" + str(RegressorEst.get_depth()))\n",
        "\n",
        "  PredictionEst = RegressorEst.predict(TestDataEst)\n",
        "  EstScore = ScoreTree(TestLabelsEst, PredictionEst)\n",
        "  #print(EstScore)\n",
        "  EstPercent = ((EstScore/TestLabelsEst.shape[0]) *100)\n",
        "  #print(EstPercent)\n",
        "  \n",
        "\n",
        "  #Agreeableness\n",
        "  RegressorAgr = tree.DecisionTreeRegressor(max_depth = Depth)\n",
        "  RegressorAgr = RegressorAgr.fit(TrainingDataAgr, TrainingLabelsAgr)\n",
        "  #print(\"Agreeableness Tree Depth = \" + str(RegressorAgr.get_depth()))\n",
        "\n",
        "  PredictionAgr = RegressorAgr.predict(TestDataAgr)\n",
        "  AgrScore = ScoreTree(TestLabelsAgr, PredictionAgr)\n",
        "  #print(AgrScore)\n",
        "  AgrPercent = ((AgrScore/TestLabelsAgr.shape[0]) *100)\n",
        "  #print(AgrPercent)\n",
        "\n",
        "  #Conscientiosness\n",
        "  RegressorCsn = tree.DecisionTreeRegressor(max_depth = Depth)\n",
        "  RegressorCsn = RegressorCsn.fit(TrainingDataCsn, TrainingLabelsCsn)\n",
        "  #print(\"Csn Tree Depth = \" + str(RegressorCsn.get_depth()))\n",
        "\n",
        "  PredictionCsn = RegressorCsn.predict(TestDataCsn)\n",
        "  CsnScore = ScoreTree(TestLabelsCsn, PredictionCsn)\n",
        "  #print(CsnScore)\n",
        "  CsnPercent = ((CsnScore/TestLabelsCsn.shape[0]) *100)\n",
        "  #print(CsnPercent)\n",
        "\n",
        "\n",
        "  #Openness\n",
        "  RegressorOpn = tree.DecisionTreeRegressor(max_depth = Depth)\n",
        "  RegressorOpn = RegressorOpn.fit(TrainingDataOpn, TrainingLabelsOpn)\n",
        "  #print(\"Openness Tree Depth = \" + str(RegressorOpn.get_depth()))\n",
        "\n",
        "  PredictionOpn = RegressorOpn.predict(TestDataOpn)\n",
        "  OpnScore = ScoreTree(TestLabelsOpn, PredictionOpn)\n",
        "  #print(OpnScore)\n",
        "  OpnPercent = ((OpnScore/TestLabelsOpn.shape[0]) *100)\n",
        "  #print(OpnPercent)\n",
        "\n",
        "\n",
        "  TotalScore = ExtScore + EstScore + AgrScore + CsnScore + OpnScore\n",
        "  AccuracyPercentage = ( (TotalScore / (TestLabels.shape[0]*TestLabels.shape[1]) ) *100)\n",
        "  #print(\"Total Accuracy: \" + str(AccuracyPercentage))\n",
        "\n",
        "  # Regressor = tree.DecisionTreeRegressor(max_depth = Depth)\n",
        "  # Regressor = Regressor.fit(TrainingData, TrainingLabels)\n",
        "  # print(\"Depth = \" + str(Regressor.get_depth()))\n",
        "\n",
        "  # Predictions = Regressor.predict(TestData)\n",
        "  \n",
        "  \n",
        "  \n",
        "  AccuracyPercentagePerTrait = np.array([ExtPercent, EstPercent, AgrPercent, CsnPercent, OpnPercent])\n",
        "  \n",
        "  \n",
        "  \n",
        "  \n",
        "  # tree.plot_tree(Regressor, max_depth = 4)\n",
        "\n",
        "  # Predictions = Regressor.predict(TestData)\n",
        "  # print(TestLabels.shape)\n",
        "  # print(Predictions.shape)\n",
        "  # accuracyPercentage, accuracyPercentagePerFactor = ScoreTree(TestLabels,Predictions)\n",
        "  # print('Percentage Accuracy = ' + str(accuracyPercentage) + '%\\n')\n",
        "  # print('Percetage Accuracy Per Trait')\n",
        "  # print('Extraversion: ' + str(accuracyPercentagePerFactor[0]))\n",
        "  # print('Emotional Stability: ' + str(accuracyPercentagePerFactor[1]))\n",
        "  # print('Agreeableness: ' + str(accuracyPercentagePerFactor[2]))\n",
        "  # print('Conscientiosness: ' + str(accuracyPercentagePerFactor[3]))\n",
        "  # print('Openness: ' + str(accuracyPercentagePerFactor[4]))\n",
        "  return AccuracyPercentage, AccuracyPercentagePerTrait"
      ],
      "execution_count": 0,
      "outputs": []
    },
    {
      "cell_type": "markdown",
      "metadata": {
        "id": "CBlLU7_rtZvB",
        "colab_type": "text"
      },
      "source": [
        "Multi-Depth Trees"
      ]
    },
    {
      "cell_type": "code",
      "metadata": {
        "id": "1frVRk9qtd3h",
        "colab_type": "code",
        "colab": {}
      },
      "source": [
        "def DecisionTreeWrapper():\n",
        "  Accuracies = np.zeros(12)\n",
        "  AccuraciesPerTrait = np.empty((12,5), dtype=object)\n",
        "  print(AccuraciesPerTrait.shape)\n",
        "  i=0\n",
        "  for x in range(10, 32, 2):\n",
        "    Accuracies[i], Temp = DecisionTree(x)\n",
        "    AccuraciesPerTrait[i] = Temp\n",
        "    i=i+1\n",
        "\n",
        "  i=0\n",
        "  for x in range(10, 32, 2):\n",
        "    print(\"Max Depth = \" + str(x))\n",
        "    print(\"Accuracy =\" + str(Accuracies[i]))\n",
        "    print(\"Accuracies Per Trait:\")\n",
        "    print('Extraversion: ' + str(AccuraciesPerTrait[i][0]))\n",
        "    print('Emotional Stability: ' + str(AccuraciesPerTrait[i][1]))\n",
        "    print('Agreeableness: ' + str(AccuraciesPerTrait[i][2]))\n",
        "    print('Conscientiosness: ' + str(AccuraciesPerTrait[i][3]))\n",
        "    print('Openness: ' + str(AccuraciesPerTrait[i][4]) + '\\n')\n",
        "    i=i+1\n",
        "\n",
        "  # plotting accuracies for traits \n",
        "  ext,emt,agr,cons,opn=np.hsplit(AccuraciesPerTrait,5)\n",
        "  x_axis=np.arange(10, 32, 2).tolist()\n",
        "\n",
        "  plt.title(\"Accuracies per Trait\")\n",
        "  plt.xlabel(\"Depth\")\n",
        "  plt.ylabel(\"Accuracies\")\n",
        "\n",
        "  #for plotting extraversion\n",
        "  plt.plot(x_axis,ext)\n",
        "  #for Emotional Stability\n",
        "  plt.plot(x_axis,emt)\n",
        "  #for plotting agreeableness\n",
        "  plt.plot(x_axis,agr)\n",
        "  #for plotting Conscientiosness\n",
        "  plt.plot(x_axis,cons)\n",
        "  #for plotting Openness\n",
        "  plt.plot(x_axis,opn)\n",
        "\n",
        "  plt.legend([\"Extraversion\",\"Emotional Stability\",\"Agreeableness\",\"Conscientiosness\",\"Openness\"], loc='upper left')\n",
        "  plt.show\n",
        "  plt.savefig(\"accuracy_per_trait{}.png\".format(time.time()))\n",
        "\n",
        "  # plotting for total accuracy\n",
        "  plt.title(\"Total Accuracy\")\n",
        "  plt.xlabel(\"Depth\")\n",
        "  plt.ylabel(\"Accuracy\")\n",
        "\n",
        "  plt.plot(x_axis,Accuracies)\n",
        "  plt.show\n",
        "  plt.savefig(\"total_accuracy{}.png\".format(time.time()))\n",
        "\n",
        "\n",
        "\n"
      ],
      "execution_count": 0,
      "outputs": []
    },
    {
      "cell_type": "markdown",
      "metadata": {
        "id": "kxfIcKRRF51t",
        "colab_type": "text"
      },
      "source": [
        "Main"
      ]
    },
    {
      "cell_type": "code",
      "metadata": {
        "id": "9820jYFl4P-o",
        "colab_type": "code",
        "outputId": "65c597d8-6ab0-4b02-c3b2-960ed23033d1",
        "colab": {
          "base_uri": "https://localhost:8080/",
          "height": 1000
        }
      },
      "source": [
        "def main():\n",
        "  #loadDataset()\n",
        "   #oneLayerNN()\n",
        "   #twoLayerNN()\n",
        "  #regressionNN()\n",
        "  DecisionTreeWrapper()\n",
        "\n",
        "#run here\n",
        "main()"
      ],
      "execution_count": 0,
      "outputs": [
        {
          "output_type": "stream",
          "text": [
            "(12, 5)\n",
            "Max Depth = 10\n",
            "Accuracy =0.011461771041242614\n",
            "Accuracies Per Trait:\n",
            "Extraversion: 0.0\n",
            "Emotional Stability: 0.009880837104519495\n",
            "Agreeableness: 0.013833171946327293\n",
            "Conscientiosness: 0.015809339367231192\n",
            "Openness: 0.01778550678813509\n",
            "\n",
            "Max Depth = 12\n",
            "Accuracy =0.12647471493784954\n",
            "Accuracies Per Trait:\n",
            "Extraversion: 0.11461771041242615\n",
            "Emotional Stability: 0.10868920814971444\n",
            "Agreeableness: 0.12252238009604174\n",
            "Conscientiosness: 0.06126119004802087\n",
            "Openness: 0.22528308598304447\n",
            "\n",
            "Max Depth = 14\n",
            "Accuracy =0.7888860344248365\n",
            "Accuracies Per Trait:\n",
            "Extraversion: 0.66399225342371\n",
            "Emotional Stability: 0.7252534434717309\n",
            "Agreeableness: 0.7133964389463076\n",
            "Conscientiosness: 0.5473983755903801\n",
            "Openness: 1.2943896606920537\n",
            "\n",
            "Max Depth = 16\n",
            "Accuracy =6.206351402090785\n",
            "Accuracies Per Trait:\n",
            "Extraversion: 4.049167045432089\n",
            "Emotional Stability: 4.859395688002688\n",
            "Agreeableness: 6.936347647372686\n",
            "Conscientiosness: 3.7922652807145822\n",
            "Openness: 11.394581348931881\n",
            "\n",
            "Max Depth = 18\n",
            "Accuracy =21.194000355710134\n",
            "Accuracies Per Trait:\n",
            "Extraversion: 19.919767602711303\n",
            "Emotional Stability: 17.311226607118154\n",
            "Agreeableness: 22.895875738592576\n",
            "Conscientiosness: 15.342963855897871\n",
            "Openness: 30.500167974230774\n",
            "\n",
            "Max Depth = 20\n",
            "Accuracy =46.666798411161395\n",
            "Accuracies Per Trait:\n",
            "Extraversion: 46.8806197261032\n",
            "Emotional Stability: 41.57065786613442\n",
            "Agreeableness: 49.78953816967373\n",
            "Conscientiosness: 36.96618777542833\n",
            "Openness: 58.12698851846728\n",
            "\n",
            "Max Depth = 22\n",
            "Accuracy =68.2686797225461\n",
            "Accuracies Per Trait:\n",
            "Extraversion: 68.57300950536529\n",
            "Emotional Stability: 64.79852973143885\n",
            "Agreeableness: 70.57881943758275\n",
            "Conscientiosness: 60.32251052309152\n",
            "Openness: 77.07052941525207\n",
            "\n",
            "Max Depth = 24\n",
            "Accuracy =73.84107661601091\n",
            "Accuracies Per Trait:\n",
            "Extraversion: 72.77038910736518\n",
            "Emotional Stability: 71.58271248740193\n",
            "Agreeableness: 75.58642768215323\n",
            "Conscientiosness: 68.49791514337095\n",
            "Openness: 80.76793865976325\n",
            "\n",
            "Max Depth = 26\n",
            "Accuracy =74.23512439973915\n",
            "Accuracies Per Trait:\n",
            "Extraversion: 72.99567219334821\n",
            "Emotional Stability: 72.23682390372113\n",
            "Agreeableness: 75.83937711202893\n",
            "Conscientiosness: 69.24095409363082\n",
            "Openness: 80.86279469596664\n",
            "\n",
            "Max Depth = 28\n",
            "Accuracy =74.36397051558208\n",
            "Accuracies Per Trait:\n",
            "Extraversion: 73.37312017074086\n",
            "Emotional Stability: 72.41863130644428\n",
            "Agreeableness: 76.13184989032271\n",
            "Conscientiosness: 69.19945457779183\n",
            "Openness: 80.69679663261071\n",
            "\n",
            "Max Depth = 30\n",
            "Accuracy =74.37740845404423\n",
            "Accuracies Per Trait:\n",
            "Extraversion: 73.32964448748098\n",
            "Emotional Stability: 72.64786672726913\n",
            "Agreeableness: 76.23856293105152\n",
            "Conscientiosness: 68.97812382665059\n",
            "Openness: 80.6928442977689\n",
            "\n"
          ],
          "name": "stdout"
        },
        {
          "output_type": "error",
          "ename": "ValueError",
          "evalue": "ignored",
          "traceback": [
            "\u001b[0;31m---------------------------------------------------------------------------\u001b[0m",
            "\u001b[0;31mValueError\u001b[0m                                Traceback (most recent call last)",
            "\u001b[0;32m<ipython-input-20-68ab6fae56f3>\u001b[0m in \u001b[0;36m<module>\u001b[0;34m()\u001b[0m\n\u001b[1;32m      7\u001b[0m \u001b[0;34m\u001b[0m\u001b[0m\n\u001b[1;32m      8\u001b[0m \u001b[0;31m#run here\u001b[0m\u001b[0;34m\u001b[0m\u001b[0;34m\u001b[0m\u001b[0;34m\u001b[0m\u001b[0m\n\u001b[0;32m----> 9\u001b[0;31m \u001b[0mmain\u001b[0m\u001b[0;34m(\u001b[0m\u001b[0;34m)\u001b[0m\u001b[0;34m\u001b[0m\u001b[0;34m\u001b[0m\u001b[0m\n\u001b[0m",
            "\u001b[0;32m<ipython-input-20-68ab6fae56f3>\u001b[0m in \u001b[0;36mmain\u001b[0;34m()\u001b[0m\n\u001b[1;32m      4\u001b[0m    \u001b[0;31m#twoLayerNN()\u001b[0m\u001b[0;34m\u001b[0m\u001b[0;34m\u001b[0m\u001b[0;34m\u001b[0m\u001b[0m\n\u001b[1;32m      5\u001b[0m   \u001b[0;31m#regressionNN()\u001b[0m\u001b[0;34m\u001b[0m\u001b[0;34m\u001b[0m\u001b[0;34m\u001b[0m\u001b[0m\n\u001b[0;32m----> 6\u001b[0;31m   \u001b[0mDecisionTreeWrapper\u001b[0m\u001b[0;34m(\u001b[0m\u001b[0;34m)\u001b[0m\u001b[0;34m\u001b[0m\u001b[0;34m\u001b[0m\u001b[0m\n\u001b[0m\u001b[1;32m      7\u001b[0m \u001b[0;34m\u001b[0m\u001b[0m\n\u001b[1;32m      8\u001b[0m \u001b[0;31m#run here\u001b[0m\u001b[0;34m\u001b[0m\u001b[0;34m\u001b[0m\u001b[0;34m\u001b[0m\u001b[0m\n",
            "\u001b[0;32m<ipython-input-16-e59e7515327f>\u001b[0m in \u001b[0;36mDecisionTreeWrapper\u001b[0;34m()\u001b[0m\n\u001b[1;32m     30\u001b[0m \u001b[0;34m\u001b[0m\u001b[0m\n\u001b[1;32m     31\u001b[0m   \u001b[0;31m#for plotting extraversion\u001b[0m\u001b[0;34m\u001b[0m\u001b[0;34m\u001b[0m\u001b[0;34m\u001b[0m\u001b[0m\n\u001b[0;32m---> 32\u001b[0;31m   \u001b[0mplt\u001b[0m\u001b[0;34m.\u001b[0m\u001b[0mplot\u001b[0m\u001b[0;34m(\u001b[0m\u001b[0mx_axis\u001b[0m\u001b[0;34m,\u001b[0m\u001b[0mext\u001b[0m\u001b[0;34m)\u001b[0m\u001b[0;34m\u001b[0m\u001b[0;34m\u001b[0m\u001b[0m\n\u001b[0m\u001b[1;32m     33\u001b[0m   \u001b[0;31m#for Emotional Stability\u001b[0m\u001b[0;34m\u001b[0m\u001b[0;34m\u001b[0m\u001b[0;34m\u001b[0m\u001b[0m\n\u001b[1;32m     34\u001b[0m   \u001b[0mplt\u001b[0m\u001b[0;34m.\u001b[0m\u001b[0mplot\u001b[0m\u001b[0;34m(\u001b[0m\u001b[0mx_axis\u001b[0m\u001b[0;34m,\u001b[0m\u001b[0memt\u001b[0m\u001b[0;34m)\u001b[0m\u001b[0;34m\u001b[0m\u001b[0;34m\u001b[0m\u001b[0m\n",
            "\u001b[0;32m/usr/local/lib/python3.6/dist-packages/matplotlib/pyplot.py\u001b[0m in \u001b[0;36mplot\u001b[0;34m(scalex, scaley, data, *args, **kwargs)\u001b[0m\n\u001b[1;32m   2761\u001b[0m     return gca().plot(\n\u001b[1;32m   2762\u001b[0m         *args, scalex=scalex, scaley=scaley, **({\"data\": data} if data\n\u001b[0;32m-> 2763\u001b[0;31m         is not None else {}), **kwargs)\n\u001b[0m\u001b[1;32m   2764\u001b[0m \u001b[0;34m\u001b[0m\u001b[0m\n\u001b[1;32m   2765\u001b[0m \u001b[0;34m\u001b[0m\u001b[0m\n",
            "\u001b[0;32m/usr/local/lib/python3.6/dist-packages/matplotlib/axes/_axes.py\u001b[0m in \u001b[0;36mplot\u001b[0;34m(self, scalex, scaley, data, *args, **kwargs)\u001b[0m\n\u001b[1;32m   1644\u001b[0m         \"\"\"\n\u001b[1;32m   1645\u001b[0m         \u001b[0mkwargs\u001b[0m \u001b[0;34m=\u001b[0m \u001b[0mcbook\u001b[0m\u001b[0;34m.\u001b[0m\u001b[0mnormalize_kwargs\u001b[0m\u001b[0;34m(\u001b[0m\u001b[0mkwargs\u001b[0m\u001b[0;34m,\u001b[0m \u001b[0mmlines\u001b[0m\u001b[0;34m.\u001b[0m\u001b[0mLine2D\u001b[0m\u001b[0;34m)\u001b[0m\u001b[0;34m\u001b[0m\u001b[0;34m\u001b[0m\u001b[0m\n\u001b[0;32m-> 1646\u001b[0;31m         \u001b[0mlines\u001b[0m \u001b[0;34m=\u001b[0m \u001b[0;34m[\u001b[0m\u001b[0;34m*\u001b[0m\u001b[0mself\u001b[0m\u001b[0;34m.\u001b[0m\u001b[0m_get_lines\u001b[0m\u001b[0;34m(\u001b[0m\u001b[0;34m*\u001b[0m\u001b[0margs\u001b[0m\u001b[0;34m,\u001b[0m \u001b[0mdata\u001b[0m\u001b[0;34m=\u001b[0m\u001b[0mdata\u001b[0m\u001b[0;34m,\u001b[0m \u001b[0;34m**\u001b[0m\u001b[0mkwargs\u001b[0m\u001b[0;34m)\u001b[0m\u001b[0;34m]\u001b[0m\u001b[0;34m\u001b[0m\u001b[0;34m\u001b[0m\u001b[0m\n\u001b[0m\u001b[1;32m   1647\u001b[0m         \u001b[0;32mfor\u001b[0m \u001b[0mline\u001b[0m \u001b[0;32min\u001b[0m \u001b[0mlines\u001b[0m\u001b[0;34m:\u001b[0m\u001b[0;34m\u001b[0m\u001b[0;34m\u001b[0m\u001b[0m\n\u001b[1;32m   1648\u001b[0m             \u001b[0mself\u001b[0m\u001b[0;34m.\u001b[0m\u001b[0madd_line\u001b[0m\u001b[0;34m(\u001b[0m\u001b[0mline\u001b[0m\u001b[0;34m)\u001b[0m\u001b[0;34m\u001b[0m\u001b[0;34m\u001b[0m\u001b[0m\n",
            "\u001b[0;32m/usr/local/lib/python3.6/dist-packages/matplotlib/axes/_base.py\u001b[0m in \u001b[0;36m__call__\u001b[0;34m(self, *args, **kwargs)\u001b[0m\n\u001b[1;32m    214\u001b[0m                 \u001b[0mthis\u001b[0m \u001b[0;34m+=\u001b[0m \u001b[0margs\u001b[0m\u001b[0;34m[\u001b[0m\u001b[0;36m0\u001b[0m\u001b[0;34m]\u001b[0m\u001b[0;34m,\u001b[0m\u001b[0;34m\u001b[0m\u001b[0;34m\u001b[0m\u001b[0m\n\u001b[1;32m    215\u001b[0m                 \u001b[0margs\u001b[0m \u001b[0;34m=\u001b[0m \u001b[0margs\u001b[0m\u001b[0;34m[\u001b[0m\u001b[0;36m1\u001b[0m\u001b[0;34m:\u001b[0m\u001b[0;34m]\u001b[0m\u001b[0;34m\u001b[0m\u001b[0;34m\u001b[0m\u001b[0m\n\u001b[0;32m--> 216\u001b[0;31m             \u001b[0;32myield\u001b[0m \u001b[0;32mfrom\u001b[0m \u001b[0mself\u001b[0m\u001b[0;34m.\u001b[0m\u001b[0m_plot_args\u001b[0m\u001b[0;34m(\u001b[0m\u001b[0mthis\u001b[0m\u001b[0;34m,\u001b[0m \u001b[0mkwargs\u001b[0m\u001b[0;34m)\u001b[0m\u001b[0;34m\u001b[0m\u001b[0;34m\u001b[0m\u001b[0m\n\u001b[0m\u001b[1;32m    217\u001b[0m \u001b[0;34m\u001b[0m\u001b[0m\n\u001b[1;32m    218\u001b[0m     \u001b[0;32mdef\u001b[0m \u001b[0mget_next_color\u001b[0m\u001b[0;34m(\u001b[0m\u001b[0mself\u001b[0m\u001b[0;34m)\u001b[0m\u001b[0;34m:\u001b[0m\u001b[0;34m\u001b[0m\u001b[0;34m\u001b[0m\u001b[0m\n",
            "\u001b[0;32m/usr/local/lib/python3.6/dist-packages/matplotlib/axes/_base.py\u001b[0m in \u001b[0;36m_plot_args\u001b[0;34m(self, tup, kwargs)\u001b[0m\n\u001b[1;32m    340\u001b[0m \u001b[0;34m\u001b[0m\u001b[0m\n\u001b[1;32m    341\u001b[0m         \u001b[0;32mif\u001b[0m \u001b[0mx\u001b[0m\u001b[0;34m.\u001b[0m\u001b[0mshape\u001b[0m\u001b[0;34m[\u001b[0m\u001b[0;36m0\u001b[0m\u001b[0;34m]\u001b[0m \u001b[0;34m!=\u001b[0m \u001b[0my\u001b[0m\u001b[0;34m.\u001b[0m\u001b[0mshape\u001b[0m\u001b[0;34m[\u001b[0m\u001b[0;36m0\u001b[0m\u001b[0;34m]\u001b[0m\u001b[0;34m:\u001b[0m\u001b[0;34m\u001b[0m\u001b[0;34m\u001b[0m\u001b[0m\n\u001b[0;32m--> 342\u001b[0;31m             raise ValueError(f\"x and y must have same first dimension, but \"\n\u001b[0m\u001b[1;32m    343\u001b[0m                              f\"have shapes {x.shape} and {y.shape}\")\n\u001b[1;32m    344\u001b[0m         \u001b[0;32mif\u001b[0m \u001b[0mx\u001b[0m\u001b[0;34m.\u001b[0m\u001b[0mndim\u001b[0m \u001b[0;34m>\u001b[0m \u001b[0;36m2\u001b[0m \u001b[0;32mor\u001b[0m \u001b[0my\u001b[0m\u001b[0;34m.\u001b[0m\u001b[0mndim\u001b[0m \u001b[0;34m>\u001b[0m \u001b[0;36m2\u001b[0m\u001b[0;34m:\u001b[0m\u001b[0;34m\u001b[0m\u001b[0;34m\u001b[0m\u001b[0m\n",
            "\u001b[0;31mValueError\u001b[0m: x and y must have same first dimension, but have shapes (11,) and (12, 1)"
          ]
        },
        {
          "output_type": "display_data",
          "data": {
            "image/png": "[encoded data removed]",
            "text/plain": [
              "<Figure size 432x288 with 1 Axes>"
            ]
          },
          "metadata": {
            "tags": [],
            "needs_background": "light"
          }
        }
      ]
    },
    {
      "cell_type": "code",
      "metadata": {
        "id": "YlDaqr4md-6I",
        "colab_type": "code",
        "colab": {}
      },
      "source": [
        ""
      ],
      "execution_count": 0,
      "outputs": []
    }
  ]
}